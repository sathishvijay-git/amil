{
 "cells": [
  {
   "cell_type": "markdown",
   "metadata": {
    "colab_type": "text",
    "id": "u9b3NyqFP_0E"
   },
   "source": [
    "# Project - Thera Bank Personal Loan Campaign"
   ]
  },
  {
   "cell_type": "markdown",
   "metadata": {
    "colab_type": "text",
    "id": "O0SuxhbeP_0G"
   },
   "source": [
    "# Context: \n",
    "    \n",
    "This case is about a bank (Thera Bank) whose management wants to explore ways of converting its liability customers to personal loan customers (while retaining them as depositors). A campaign that the bank ran last year for liability customers showed a healthy conversion rate of over 9% success. This has encouraged the retail marketing department to devise campaigns with better target marketing to increase the success ratio with a minimal budget"
   ]
  },
  {
   "cell_type": "markdown",
   "metadata": {
    "colab_type": "text",
    "id": "jc_MrvKmP_0H"
   },
   "source": [
    "# Problem:\n",
    "\n",
    "The classification goal is to predict the likelihood of a liability customer buying personal loans."
   ]
  },
  {
   "cell_type": "markdown",
   "metadata": {
    "colab_type": "text",
    "id": "p9OujWl2P_0I"
   },
   "source": [
    "Data:\n",
    "\n",
    "ID: Customer ID  <br>\n",
    "Age: Customer's age in completed years <br>\n",
    "Experience: #years of professional experience <br>\n",
    "Income: Annual income of the customer (000)   <br>\n",
    "ZIP Code: Home Address ZIP code.  <br>\n",
    "Family: Family size of the customer <br>\n",
    "CCAvg: Avg. spending on credit cards per month (000)  <br>\n",
    "Education: Education Level. 1: Undergrad; 2: Graduate; 3: Advanced/Professional <br>\n",
    "Mortgage: Value of house mortgage if any. (000) <br>\n",
    "Personal Loan: Did this customer accept the personal loan offered in the last campaign? <br>\n",
    "Securities Account: Does the customer have a securities account with the bank? <br>\n",
    "CD Account: Does the customer have a certificate of deposit (CD) account with the bank? <br>\n",
    "Online: Does the customer use internet banking facilities? <br>\n",
    "Credit card: Does the customer use a credit card issued by the bank? <br>\n",
    "\n"
   ]
  },
  {
   "cell_type": "markdown",
   "metadata": {
    "colab_type": "text",
    "id": "p9OujWl2P_0I"
   },
   "source": [
    "### 1. Import the datasets and libraries, check datatype, statistical summary, shape, null values or incorrect imputation"
   ]
  },
  {
   "cell_type": "code",
   "execution_count": 1,
   "metadata": {
    "colab": {},
    "colab_type": "code",
    "id": "lYrNnc-2P_0J"
   },
   "outputs": [],
   "source": [
    "import warnings\n",
    "warnings.filterwarnings('ignore')"
   ]
  },
  {
   "cell_type": "code",
   "execution_count": 2,
   "metadata": {},
   "outputs": [],
   "source": [
    "import pandas as pd\n",
    "from sklearn.linear_model import LogisticRegression\n",
    "\n",
    "# importing ploting libraries\n",
    "import matplotlib.pyplot as plt\n",
    "# To enable plotting graphs in Jupyter notebook\n",
    "%matplotlib inline\n",
    "\n",
    "#importing seaborn for statistical plots\n",
    "import seaborn as sns\n",
    "\n",
    "#Let us break the X and y dataframes into training set and test set. For this we will use\n",
    "#Sklearn package's data splitting function which is based on random function\n",
    "\n",
    "from sklearn.model_selection import train_test_split\n",
    "\n",
    "import numpy as np\n",
    "import os,sys\n",
    "from scipy import stats\n",
    "\n",
    "# calculate accuracy measures and confusion matrix\n",
    "from sklearn import metrics"
   ]
  },
  {
   "cell_type": "code",
   "execution_count": 585,
   "metadata": {},
   "outputs": [
    {
     "data": {
      "text/html": [
       "<div>\n",
       "<style scoped>\n",
       "    .dataframe tbody tr th:only-of-type {\n",
       "        vertical-align: middle;\n",
       "    }\n",
       "\n",
       "    .dataframe tbody tr th {\n",
       "        vertical-align: top;\n",
       "    }\n",
       "\n",
       "    .dataframe thead th {\n",
       "        text-align: right;\n",
       "    }\n",
       "</style>\n",
       "<table border=\"1\" class=\"dataframe\">\n",
       "  <thead>\n",
       "    <tr style=\"text-align: right;\">\n",
       "      <th></th>\n",
       "      <th>ID</th>\n",
       "      <th>Age</th>\n",
       "      <th>Experience</th>\n",
       "      <th>Income</th>\n",
       "      <th>ZIP Code</th>\n",
       "      <th>Family</th>\n",
       "      <th>CCAvg</th>\n",
       "      <th>Education</th>\n",
       "      <th>Mortgage</th>\n",
       "      <th>Personal Loan</th>\n",
       "      <th>Securities Account</th>\n",
       "      <th>CD Account</th>\n",
       "      <th>Online</th>\n",
       "      <th>CreditCard</th>\n",
       "    </tr>\n",
       "  </thead>\n",
       "  <tbody>\n",
       "    <tr>\n",
       "      <th>0</th>\n",
       "      <td>1</td>\n",
       "      <td>25</td>\n",
       "      <td>1</td>\n",
       "      <td>49</td>\n",
       "      <td>91107</td>\n",
       "      <td>4</td>\n",
       "      <td>1.60</td>\n",
       "      <td>1</td>\n",
       "      <td>0</td>\n",
       "      <td>0</td>\n",
       "      <td>1</td>\n",
       "      <td>0</td>\n",
       "      <td>0</td>\n",
       "      <td>0</td>\n",
       "    </tr>\n",
       "    <tr>\n",
       "      <th>1</th>\n",
       "      <td>2</td>\n",
       "      <td>45</td>\n",
       "      <td>19</td>\n",
       "      <td>34</td>\n",
       "      <td>90089</td>\n",
       "      <td>3</td>\n",
       "      <td>1.50</td>\n",
       "      <td>1</td>\n",
       "      <td>0</td>\n",
       "      <td>0</td>\n",
       "      <td>1</td>\n",
       "      <td>0</td>\n",
       "      <td>0</td>\n",
       "      <td>0</td>\n",
       "    </tr>\n",
       "    <tr>\n",
       "      <th>2</th>\n",
       "      <td>3</td>\n",
       "      <td>39</td>\n",
       "      <td>15</td>\n",
       "      <td>11</td>\n",
       "      <td>94720</td>\n",
       "      <td>1</td>\n",
       "      <td>1.00</td>\n",
       "      <td>1</td>\n",
       "      <td>0</td>\n",
       "      <td>0</td>\n",
       "      <td>0</td>\n",
       "      <td>0</td>\n",
       "      <td>0</td>\n",
       "      <td>0</td>\n",
       "    </tr>\n",
       "    <tr>\n",
       "      <th>3</th>\n",
       "      <td>4</td>\n",
       "      <td>35</td>\n",
       "      <td>9</td>\n",
       "      <td>100</td>\n",
       "      <td>94112</td>\n",
       "      <td>1</td>\n",
       "      <td>2.70</td>\n",
       "      <td>2</td>\n",
       "      <td>0</td>\n",
       "      <td>0</td>\n",
       "      <td>0</td>\n",
       "      <td>0</td>\n",
       "      <td>0</td>\n",
       "      <td>0</td>\n",
       "    </tr>\n",
       "    <tr>\n",
       "      <th>4</th>\n",
       "      <td>5</td>\n",
       "      <td>35</td>\n",
       "      <td>8</td>\n",
       "      <td>45</td>\n",
       "      <td>91330</td>\n",
       "      <td>4</td>\n",
       "      <td>1.00</td>\n",
       "      <td>2</td>\n",
       "      <td>0</td>\n",
       "      <td>0</td>\n",
       "      <td>0</td>\n",
       "      <td>0</td>\n",
       "      <td>0</td>\n",
       "      <td>1</td>\n",
       "    </tr>\n",
       "  </tbody>\n",
       "</table>\n",
       "</div>"
      ],
      "text/plain": [
       "   ID  Age  Experience  Income  ZIP Code  Family  CCAvg  Education  Mortgage  \\\n",
       "0   1   25           1      49     91107       4   1.60          1         0   \n",
       "1   2   45          19      34     90089       3   1.50          1         0   \n",
       "2   3   39          15      11     94720       1   1.00          1         0   \n",
       "3   4   35           9     100     94112       1   2.70          2         0   \n",
       "4   5   35           8      45     91330       4   1.00          2         0   \n",
       "\n",
       "   Personal Loan  Securities Account  CD Account  Online  CreditCard  \n",
       "0              0                   1           0       0           0  \n",
       "1              0                   1           0       0           0  \n",
       "2              0                   0           0       0           0  \n",
       "3              0                   0           0       0           0  \n",
       "4              0                   0           0       0           1  "
      ]
     },
     "execution_count": 585,
     "metadata": {},
     "output_type": "execute_result"
    }
   ],
   "source": [
    "df = pd.read_csv('Bank_Personal_Loan_Modelling.csv')\n",
    "df.head()"
   ]
  },
  {
   "cell_type": "code",
   "execution_count": 582,
   "metadata": {
    "colab": {},
    "colab_type": "code",
    "id": "nblIvuUxP_0R",
    "outputId": "e68beb1e-86e6-4fd6-e44d-dc96aeeccbed"
   },
   "outputs": [
    {
     "name": "stdout",
     "output_type": "stream",
     "text": [
      "<class 'pandas.core.frame.DataFrame'>\n",
      "RangeIndex: 5000 entries, 0 to 4999\n",
      "Data columns (total 14 columns):\n",
      " #   Column              Non-Null Count  Dtype  \n",
      "---  ------              --------------  -----  \n",
      " 0   ID                  5000 non-null   int64  \n",
      " 1   Age                 5000 non-null   int64  \n",
      " 2   Experience          5000 non-null   int64  \n",
      " 3   Income              5000 non-null   int64  \n",
      " 4   ZIP Code            5000 non-null   int64  \n",
      " 5   Family              5000 non-null   int64  \n",
      " 6   CCAvg               5000 non-null   float64\n",
      " 7   Education           5000 non-null   int64  \n",
      " 8   Mortgage            5000 non-null   int64  \n",
      " 9   Personal Loan       5000 non-null   int64  \n",
      " 10  Securities Account  5000 non-null   int64  \n",
      " 11  CD Account          5000 non-null   int64  \n",
      " 12  Online              5000 non-null   int64  \n",
      " 13  CreditCard          5000 non-null   int64  \n",
      "dtypes: float64(1), int64(13)\n",
      "memory usage: 547.0 KB\n",
      "None\n",
      "           ID     Age  Experience  Income  ZIP Code  Family   CCAvg  \\\n",
      "count 5000.00 5000.00     5000.00 5000.00   5000.00 5000.00 5000.00   \n",
      "mean  2500.50   45.34       20.10   73.77  93152.50    2.40    1.94   \n",
      "std   1443.52   11.46       11.47   46.03   2121.85    1.15    1.75   \n",
      "min      1.00   23.00       -3.00    8.00   9307.00    1.00    0.00   \n",
      "25%   1250.75   35.00       10.00   39.00  91911.00    1.00    0.70   \n",
      "50%   2500.50   45.00       20.00   64.00  93437.00    2.00    1.50   \n",
      "75%   3750.25   55.00       30.00   98.00  94608.00    3.00    2.50   \n",
      "max   5000.00   67.00       43.00  224.00  96651.00    4.00   10.00   \n",
      "\n",
      "       Education  Mortgage  Personal Loan  Securities Account  CD Account  \\\n",
      "count    5000.00   5000.00        5000.00             5000.00     5000.00   \n",
      "mean        1.88     56.50           0.10                0.10        0.06   \n",
      "std         0.84    101.71           0.29                0.31        0.24   \n",
      "min         1.00      0.00           0.00                0.00        0.00   \n",
      "25%         1.00      0.00           0.00                0.00        0.00   \n",
      "50%         2.00      0.00           0.00                0.00        0.00   \n",
      "75%         3.00    101.00           0.00                0.00        0.00   \n",
      "max         3.00    635.00           1.00                1.00        1.00   \n",
      "\n",
      "       Online  CreditCard  \n",
      "count 5000.00     5000.00  \n",
      "mean     0.60        0.29  \n",
      "std      0.49        0.46  \n",
      "min      0.00        0.00  \n",
      "25%      0.00        0.00  \n",
      "50%      1.00        0.00  \n",
      "75%      1.00        1.00  \n",
      "max      1.00        1.00  \n",
      "(5000, 14)\n",
      "ID                    0\n",
      "Age                   0\n",
      "Experience            0\n",
      "Income                0\n",
      "ZIP Code              0\n",
      "Family                0\n",
      "CCAvg                 0\n",
      "Education             0\n",
      "Mortgage              0\n",
      "Personal Loan         0\n",
      "Securities Account    0\n",
      "CD Account            0\n",
      "Online                0\n",
      "CreditCard            0\n",
      "dtype: int64\n"
     ]
    }
   ],
   "source": [
    "# Data Types\n",
    "print(df.info())\n",
    "#Statistical Summary\n",
    "print(df.describe())\n",
    "#Shape\n",
    "print(df.shape)\n",
    "#Check for nulls\n",
    "print(df.isnull().sum())"
   ]
  },
  {
   "cell_type": "code",
   "execution_count": 586,
   "metadata": {},
   "outputs": [
    {
     "data": {
      "text/html": [
       "<div>\n",
       "<style scoped>\n",
       "    .dataframe tbody tr th:only-of-type {\n",
       "        vertical-align: middle;\n",
       "    }\n",
       "\n",
       "    .dataframe tbody tr th {\n",
       "        vertical-align: top;\n",
       "    }\n",
       "\n",
       "    .dataframe thead th {\n",
       "        text-align: right;\n",
       "    }\n",
       "</style>\n",
       "<table border=\"1\" class=\"dataframe\">\n",
       "  <thead>\n",
       "    <tr style=\"text-align: right;\">\n",
       "      <th></th>\n",
       "      <th>ID</th>\n",
       "      <th>Age</th>\n",
       "      <th>Experience</th>\n",
       "      <th>Income</th>\n",
       "      <th>ZIP Code</th>\n",
       "      <th>Family</th>\n",
       "      <th>CCAvg</th>\n",
       "      <th>Education</th>\n",
       "      <th>Mortgage</th>\n",
       "      <th>Personal Loan</th>\n",
       "      <th>Securities Account</th>\n",
       "      <th>CD Account</th>\n",
       "      <th>Online</th>\n",
       "      <th>CreditCard</th>\n",
       "    </tr>\n",
       "  </thead>\n",
       "  <tbody>\n",
       "    <tr>\n",
       "      <th>count</th>\n",
       "      <td>5000.00</td>\n",
       "      <td>5000.00</td>\n",
       "      <td>5000.00</td>\n",
       "      <td>5000.00</td>\n",
       "      <td>5000.00</td>\n",
       "      <td>5000.00</td>\n",
       "      <td>5000.00</td>\n",
       "      <td>5000.00</td>\n",
       "      <td>5000.00</td>\n",
       "      <td>5000.00</td>\n",
       "      <td>5000.00</td>\n",
       "      <td>5000.00</td>\n",
       "      <td>5000.00</td>\n",
       "      <td>5000.00</td>\n",
       "    </tr>\n",
       "    <tr>\n",
       "      <th>mean</th>\n",
       "      <td>2500.50</td>\n",
       "      <td>45.34</td>\n",
       "      <td>20.12</td>\n",
       "      <td>73774.20</td>\n",
       "      <td>93152.50</td>\n",
       "      <td>2.40</td>\n",
       "      <td>1937.94</td>\n",
       "      <td>1.88</td>\n",
       "      <td>56498.80</td>\n",
       "      <td>0.10</td>\n",
       "      <td>0.10</td>\n",
       "      <td>0.06</td>\n",
       "      <td>0.60</td>\n",
       "      <td>0.29</td>\n",
       "    </tr>\n",
       "    <tr>\n",
       "      <th>std</th>\n",
       "      <td>1443.52</td>\n",
       "      <td>11.46</td>\n",
       "      <td>11.44</td>\n",
       "      <td>46033.73</td>\n",
       "      <td>2121.85</td>\n",
       "      <td>1.15</td>\n",
       "      <td>1747.66</td>\n",
       "      <td>0.84</td>\n",
       "      <td>101713.80</td>\n",
       "      <td>0.29</td>\n",
       "      <td>0.31</td>\n",
       "      <td>0.24</td>\n",
       "      <td>0.49</td>\n",
       "      <td>0.46</td>\n",
       "    </tr>\n",
       "    <tr>\n",
       "      <th>min</th>\n",
       "      <td>1.00</td>\n",
       "      <td>23.00</td>\n",
       "      <td>0.00</td>\n",
       "      <td>8000.00</td>\n",
       "      <td>9307.00</td>\n",
       "      <td>1.00</td>\n",
       "      <td>0.00</td>\n",
       "      <td>1.00</td>\n",
       "      <td>0.00</td>\n",
       "      <td>0.00</td>\n",
       "      <td>0.00</td>\n",
       "      <td>0.00</td>\n",
       "      <td>0.00</td>\n",
       "      <td>0.00</td>\n",
       "    </tr>\n",
       "    <tr>\n",
       "      <th>25%</th>\n",
       "      <td>1250.75</td>\n",
       "      <td>35.00</td>\n",
       "      <td>10.00</td>\n",
       "      <td>39000.00</td>\n",
       "      <td>91911.00</td>\n",
       "      <td>1.00</td>\n",
       "      <td>700.00</td>\n",
       "      <td>1.00</td>\n",
       "      <td>0.00</td>\n",
       "      <td>0.00</td>\n",
       "      <td>0.00</td>\n",
       "      <td>0.00</td>\n",
       "      <td>0.00</td>\n",
       "      <td>0.00</td>\n",
       "    </tr>\n",
       "    <tr>\n",
       "      <th>50%</th>\n",
       "      <td>2500.50</td>\n",
       "      <td>45.00</td>\n",
       "      <td>20.00</td>\n",
       "      <td>64000.00</td>\n",
       "      <td>93437.00</td>\n",
       "      <td>2.00</td>\n",
       "      <td>1500.00</td>\n",
       "      <td>2.00</td>\n",
       "      <td>0.00</td>\n",
       "      <td>0.00</td>\n",
       "      <td>0.00</td>\n",
       "      <td>0.00</td>\n",
       "      <td>1.00</td>\n",
       "      <td>0.00</td>\n",
       "    </tr>\n",
       "    <tr>\n",
       "      <th>75%</th>\n",
       "      <td>3750.25</td>\n",
       "      <td>55.00</td>\n",
       "      <td>30.00</td>\n",
       "      <td>98000.00</td>\n",
       "      <td>94608.00</td>\n",
       "      <td>3.00</td>\n",
       "      <td>2500.00</td>\n",
       "      <td>3.00</td>\n",
       "      <td>101000.00</td>\n",
       "      <td>0.00</td>\n",
       "      <td>0.00</td>\n",
       "      <td>0.00</td>\n",
       "      <td>1.00</td>\n",
       "      <td>1.00</td>\n",
       "    </tr>\n",
       "    <tr>\n",
       "      <th>max</th>\n",
       "      <td>5000.00</td>\n",
       "      <td>67.00</td>\n",
       "      <td>43.00</td>\n",
       "      <td>224000.00</td>\n",
       "      <td>96651.00</td>\n",
       "      <td>4.00</td>\n",
       "      <td>10000.00</td>\n",
       "      <td>3.00</td>\n",
       "      <td>635000.00</td>\n",
       "      <td>1.00</td>\n",
       "      <td>1.00</td>\n",
       "      <td>1.00</td>\n",
       "      <td>1.00</td>\n",
       "      <td>1.00</td>\n",
       "    </tr>\n",
       "  </tbody>\n",
       "</table>\n",
       "</div>"
      ],
      "text/plain": [
       "           ID     Age  Experience    Income  ZIP Code  Family    CCAvg  \\\n",
       "count 5000.00 5000.00     5000.00   5000.00   5000.00 5000.00  5000.00   \n",
       "mean  2500.50   45.34       20.12  73774.20  93152.50    2.40  1937.94   \n",
       "std   1443.52   11.46       11.44  46033.73   2121.85    1.15  1747.66   \n",
       "min      1.00   23.00        0.00   8000.00   9307.00    1.00     0.00   \n",
       "25%   1250.75   35.00       10.00  39000.00  91911.00    1.00   700.00   \n",
       "50%   2500.50   45.00       20.00  64000.00  93437.00    2.00  1500.00   \n",
       "75%   3750.25   55.00       30.00  98000.00  94608.00    3.00  2500.00   \n",
       "max   5000.00   67.00       43.00 224000.00  96651.00    4.00 10000.00   \n",
       "\n",
       "       Education  Mortgage  Personal Loan  Securities Account  CD Account  \\\n",
       "count    5000.00   5000.00        5000.00             5000.00     5000.00   \n",
       "mean        1.88  56498.80           0.10                0.10        0.06   \n",
       "std         0.84 101713.80           0.29                0.31        0.24   \n",
       "min         1.00      0.00           0.00                0.00        0.00   \n",
       "25%         1.00      0.00           0.00                0.00        0.00   \n",
       "50%         2.00      0.00           0.00                0.00        0.00   \n",
       "75%         3.00 101000.00           0.00                0.00        0.00   \n",
       "max         3.00 635000.00           1.00                1.00        1.00   \n",
       "\n",
       "       Online  CreditCard  \n",
       "count 5000.00     5000.00  \n",
       "mean     0.60        0.29  \n",
       "std      0.49        0.46  \n",
       "min      0.00        0.00  \n",
       "25%      0.00        0.00  \n",
       "50%      1.00        0.00  \n",
       "75%      1.00        1.00  \n",
       "max      1.00        1.00  "
      ]
     },
     "execution_count": 586,
     "metadata": {},
     "output_type": "execute_result"
    }
   ],
   "source": [
    "#incorrect imputation - Experience has negative Number, change negative no to Zero\n",
    "df['Income']= df['Income'] * 1000\n",
    "df['CCAvg']= df['CCAvg'] * 1000\n",
    "df['Mortgage']= df['Mortgage'] * 1000\n",
    "pl_df = df.clip(lower=0)\n",
    "pl_df.describe()\n"
   ]
  },
  {
   "cell_type": "code",
   "execution_count": 587,
   "metadata": {},
   "outputs": [
    {
     "name": "stdout",
     "output_type": "stream",
     "text": [
      "<class 'pandas.core.frame.DataFrame'>\n",
      "RangeIndex: 5000 entries, 0 to 4999\n",
      "Data columns (total 14 columns):\n",
      " #   Column              Non-Null Count  Dtype   \n",
      "---  ------              --------------  -----   \n",
      " 0   ID                  5000 non-null   int64   \n",
      " 1   Age                 5000 non-null   int64   \n",
      " 2   Experience          5000 non-null   category\n",
      " 3   Income              5000 non-null   int64   \n",
      " 4   ZIP Code            5000 non-null   int64   \n",
      " 5   Family              5000 non-null   category\n",
      " 6   CCAvg               5000 non-null   float64 \n",
      " 7   Education           5000 non-null   category\n",
      " 8   Mortgage            5000 non-null   int64   \n",
      " 9   Personal Loan       5000 non-null   category\n",
      " 10  Securities Account  5000 non-null   category\n",
      " 11  CD Account          5000 non-null   category\n",
      " 12  Online              5000 non-null   category\n",
      " 13  CreditCard          5000 non-null   category\n",
      "dtypes: category(8), float64(1), int64(5)\n",
      "memory usage: 275.9 KB\n"
     ]
    }
   ],
   "source": [
    "#Converting 1 and 0 to True and False, for better classification\n",
    "#pl_df['Personal Loan'] = df['Personal Loan'].map({1: True, 0: False})\n",
    "#pl_df['Securities Account'] = df['Securities Account'].map({1: True, 0: False})\n",
    "#pl_df['CD Account'] = df['CD Account'].map({1: True, 0: False})\n",
    "#pl_df['Online'] = df['Online'].map({1: True, 0: False})\n",
    "#pl_df['CreditCard'] = df['CreditCard'].map({1: True, 0: False})\n",
    "#Convert into Category variable\n",
    "pl_df['Experience'] = pl_df['Experience'].astype('category')\n",
    "pl_df['Family'] = pl_df['Family'].astype('category')\n",
    "pl_df['Education'] = pl_df['Education'].astype('category')\n",
    "pl_df['Personal Loan'] = pl_df['Personal Loan'].astype('category')\n",
    "pl_df['Securities Account'] = pl_df['Securities Account'].astype('category')\n",
    "pl_df['CD Account'] = pl_df['CD Account'].astype('category')\n",
    "pl_df['Online'] = pl_df['Online'].astype('category')\n",
    "pl_df['CreditCard'] = pl_df['CreditCard'].astype('category')\n",
    "pl_df.info()"
   ]
  },
  {
   "cell_type": "code",
   "execution_count": 235,
   "metadata": {},
   "outputs": [
    {
     "data": {
      "text/html": [
       "<div>\n",
       "<style scoped>\n",
       "    .dataframe tbody tr th:only-of-type {\n",
       "        vertical-align: middle;\n",
       "    }\n",
       "\n",
       "    .dataframe tbody tr th {\n",
       "        vertical-align: top;\n",
       "    }\n",
       "\n",
       "    .dataframe thead th {\n",
       "        text-align: right;\n",
       "    }\n",
       "</style>\n",
       "<table border=\"1\" class=\"dataframe\">\n",
       "  <thead>\n",
       "    <tr style=\"text-align: right;\">\n",
       "      <th></th>\n",
       "      <th>ID</th>\n",
       "      <th>Age</th>\n",
       "      <th>Experience</th>\n",
       "      <th>Income</th>\n",
       "      <th>ZIP Code</th>\n",
       "      <th>Family</th>\n",
       "      <th>CCAvg</th>\n",
       "      <th>Education</th>\n",
       "      <th>Mortgage</th>\n",
       "      <th>Personal Loan</th>\n",
       "      <th>Securities Account</th>\n",
       "      <th>CD Account</th>\n",
       "      <th>Online</th>\n",
       "      <th>CreditCard</th>\n",
       "    </tr>\n",
       "  </thead>\n",
       "  <tbody>\n",
       "    <tr>\n",
       "      <th>0</th>\n",
       "      <td>1</td>\n",
       "      <td>25</td>\n",
       "      <td>1</td>\n",
       "      <td>49</td>\n",
       "      <td>91107</td>\n",
       "      <td>4</td>\n",
       "      <td>1.60</td>\n",
       "      <td>1</td>\n",
       "      <td>0</td>\n",
       "      <td>0</td>\n",
       "      <td>1</td>\n",
       "      <td>0</td>\n",
       "      <td>0</td>\n",
       "      <td>0</td>\n",
       "    </tr>\n",
       "    <tr>\n",
       "      <th>1</th>\n",
       "      <td>2</td>\n",
       "      <td>45</td>\n",
       "      <td>19</td>\n",
       "      <td>34</td>\n",
       "      <td>90089</td>\n",
       "      <td>3</td>\n",
       "      <td>1.50</td>\n",
       "      <td>1</td>\n",
       "      <td>0</td>\n",
       "      <td>0</td>\n",
       "      <td>1</td>\n",
       "      <td>0</td>\n",
       "      <td>0</td>\n",
       "      <td>0</td>\n",
       "    </tr>\n",
       "    <tr>\n",
       "      <th>2</th>\n",
       "      <td>3</td>\n",
       "      <td>39</td>\n",
       "      <td>15</td>\n",
       "      <td>11</td>\n",
       "      <td>94720</td>\n",
       "      <td>1</td>\n",
       "      <td>1.00</td>\n",
       "      <td>1</td>\n",
       "      <td>0</td>\n",
       "      <td>0</td>\n",
       "      <td>0</td>\n",
       "      <td>0</td>\n",
       "      <td>0</td>\n",
       "      <td>0</td>\n",
       "    </tr>\n",
       "    <tr>\n",
       "      <th>3</th>\n",
       "      <td>4</td>\n",
       "      <td>35</td>\n",
       "      <td>9</td>\n",
       "      <td>100</td>\n",
       "      <td>94112</td>\n",
       "      <td>1</td>\n",
       "      <td>2.70</td>\n",
       "      <td>2</td>\n",
       "      <td>0</td>\n",
       "      <td>0</td>\n",
       "      <td>0</td>\n",
       "      <td>0</td>\n",
       "      <td>0</td>\n",
       "      <td>0</td>\n",
       "    </tr>\n",
       "    <tr>\n",
       "      <th>4</th>\n",
       "      <td>5</td>\n",
       "      <td>35</td>\n",
       "      <td>8</td>\n",
       "      <td>45</td>\n",
       "      <td>91330</td>\n",
       "      <td>4</td>\n",
       "      <td>1.00</td>\n",
       "      <td>2</td>\n",
       "      <td>0</td>\n",
       "      <td>0</td>\n",
       "      <td>0</td>\n",
       "      <td>0</td>\n",
       "      <td>0</td>\n",
       "      <td>1</td>\n",
       "    </tr>\n",
       "  </tbody>\n",
       "</table>\n",
       "</div>"
      ],
      "text/plain": [
       "   ID  Age Experience  Income  ZIP Code Family  CCAvg Education  Mortgage  \\\n",
       "0   1   25          1      49     91107      4   1.60         1         0   \n",
       "1   2   45         19      34     90089      3   1.50         1         0   \n",
       "2   3   39         15      11     94720      1   1.00         1         0   \n",
       "3   4   35          9     100     94112      1   2.70         2         0   \n",
       "4   5   35          8      45     91330      4   1.00         2         0   \n",
       "\n",
       "  Personal Loan Securities Account CD Account Online CreditCard  \n",
       "0             0                  1          0      0          0  \n",
       "1             0                  1          0      0          0  \n",
       "2             0                  0          0      0          0  \n",
       "3             0                  0          0      0          0  \n",
       "4             0                  0          0      0          1  "
      ]
     },
     "execution_count": 235,
     "metadata": {},
     "output_type": "execute_result"
    }
   ],
   "source": [
    "pl_df.head()"
   ]
  },
  {
   "cell_type": "markdown",
   "metadata": {
    "colab_type": "text",
    "id": "p9OujWl2P_0I"
   },
   "source": [
    "### 2. EDA: Study the data distribution in each attribute and target variable, share your findings"
   ]
  },
  {
   "cell_type": "markdown",
   "metadata": {
    "colab_type": "text",
    "id": "p9OujWl2P_0I"
   },
   "source": [
    "**#Number of unique in each column**"
   ]
  },
  {
   "cell_type": "code",
   "execution_count": 12,
   "metadata": {},
   "outputs": [
    {
     "data": {
      "text/plain": [
       "Age                    45\n",
       "Experience             47\n",
       "Income                162\n",
       "ZIP Code              467\n",
       "Family                  4\n",
       "CCAvg                 108\n",
       "Education               3\n",
       "Mortgage              347\n",
       "Personal Loan           2\n",
       "Securities Account      2\n",
       "CD Account              2\n",
       "Online                  2\n",
       "CreditCard              2\n",
       "dtype: int64"
      ]
     },
     "execution_count": 12,
     "metadata": {},
     "output_type": "execute_result"
    }
   ],
   "source": [
    "pl_df.nunique()\n",
    "# To check number of unique values in a particular column"
   ]
  },
  {
   "cell_type": "markdown",
   "metadata": {
    "colab_type": "text",
    "id": "p9OujWl2P_0I"
   },
   "source": [
    "**#Number of people with zero mortgage**"
   ]
  },
  {
   "cell_type": "code",
   "execution_count": 22,
   "metadata": {},
   "outputs": [
    {
     "data": {
      "text/plain": [
       "Age                      0\n",
       "Experience               0\n",
       "Income                   0\n",
       "ZIP Code                 0\n",
       "Family                   0\n",
       "CCAvg                    0\n",
       "Education                0\n",
       "Mortgage              3462\n",
       "Personal Loan            0\n",
       "Securities Account       0\n",
       "CD Account               0\n",
       "Online                   0\n",
       "CreditCard               0\n",
       "dtype: int64"
      ]
     },
     "execution_count": 22,
     "metadata": {},
     "output_type": "execute_result"
    }
   ],
   "source": [
    "#pl_df.astype(bool).sum(axis=0)\n",
    "#pl_df.isin([0]).sum()\n",
    "pl_df.isin({'Mortgage':[0]}).sum()"
   ]
  },
  {
   "cell_type": "markdown",
   "metadata": {
    "colab_type": "text",
    "id": "p9OujWl2P_0I"
   },
   "source": [
    "**#Number of people with zero credit card spending per month**"
   ]
  },
  {
   "cell_type": "code",
   "execution_count": 236,
   "metadata": {},
   "outputs": [
    {
     "data": {
      "text/plain": [
       "ID                      0\n",
       "Age                     0\n",
       "Experience              0\n",
       "Income                  0\n",
       "ZIP Code                0\n",
       "Family                  0\n",
       "CCAvg                 106\n",
       "Education               0\n",
       "Mortgage                0\n",
       "Personal Loan           0\n",
       "Securities Account      0\n",
       "CD Account              0\n",
       "Online                  0\n",
       "CreditCard              0\n",
       "dtype: int64"
      ]
     },
     "execution_count": 236,
     "metadata": {},
     "output_type": "execute_result"
    }
   ],
   "source": [
    "#pl_df.astype(bool).sum(axis=0)\n",
    "#pl_df.isin([0]).sum()\n",
    "pl_df.isin({'CCAvg':[0]}).sum()"
   ]
  },
  {
   "cell_type": "markdown",
   "metadata": {
    "colab_type": "text",
    "id": "p9OujWl2P_0I"
   },
   "source": [
    "**#Value counts of all categorical columns**"
   ]
  },
  {
   "cell_type": "code",
   "execution_count": 185,
   "metadata": {},
   "outputs": [
    {
     "name": "stdout",
     "output_type": "stream",
     "text": [
      "32   0.03\n",
      "20   0.03\n",
      "9    0.03\n",
      "5    0.03\n",
      "23   0.03\n",
      "35   0.03\n",
      "25   0.03\n",
      "28   0.03\n",
      "18   0.03\n",
      "19   0.03\n",
      "26   0.03\n",
      "24   0.03\n",
      "3    0.03\n",
      "14   0.03\n",
      "16   0.03\n",
      "30   0.03\n",
      "27   0.03\n",
      "17   0.03\n",
      "34   0.03\n",
      "29   0.02\n",
      "22   0.02\n",
      "7    0.02\n",
      "15   0.02\n",
      "8    0.02\n",
      "6    0.02\n",
      "0    0.02\n",
      "10   0.02\n",
      "33   0.02\n",
      "13   0.02\n",
      "37   0.02\n",
      "11   0.02\n",
      "36   0.02\n",
      "4    0.02\n",
      "21   0.02\n",
      "31   0.02\n",
      "12   0.02\n",
      "38   0.02\n",
      "39   0.02\n",
      "2    0.02\n",
      "1    0.01\n",
      "40   0.01\n",
      "41   0.01\n",
      "42   0.00\n",
      "43   0.00\n",
      "Name: Experience, dtype: float64\n",
      "\n",
      "1   0.29\n",
      "2   0.26\n",
      "4   0.24\n",
      "3   0.20\n",
      "Name: Family, dtype: float64\n",
      "\n",
      "1   0.42\n",
      "3   0.30\n",
      "2   0.28\n",
      "Name: Education, dtype: float64\n",
      "\n",
      "0   0.90\n",
      "1   0.10\n",
      "Name: Personal Loan, dtype: float64\n",
      "\n",
      "0   0.90\n",
      "1   0.10\n",
      "Name: Securities Account, dtype: float64\n",
      "\n",
      "0   0.94\n",
      "1   0.06\n",
      "Name: CD Account, dtype: float64\n",
      "\n",
      "1   0.60\n",
      "0   0.40\n",
      "Name: Online, dtype: float64\n",
      "\n",
      "0   0.71\n",
      "1   0.29\n",
      "Name: CreditCard, dtype: float64\n",
      "\n"
     ]
    }
   ],
   "source": [
    "#Check if Data is skewed\n",
    "for i in list(pl_df.columns[pl_df.dtypes=='category']):   # checking value counts of all object type columns\n",
    "    print(pl_df[i].value_counts(normalize = True))\n",
    "    print()\n",
    "    \n",
    "#print(pl_df['Education'].value_counts(normalize = True))\n",
    "#print(pl_df['Personal Loan'].value_counts())\n",
    "#print(pl_df['Securities Account'].value_counts())\n",
    "#print(pl_df['CD Account'].value_counts())\n",
    "#print(pl_df['Online'].value_counts())\n",
    "#print(pl_df['CreditCard'].value_counts())"
   ]
  },
  {
   "cell_type": "markdown",
   "metadata": {
    "colab_type": "text",
    "id": "p9OujWl2P_0I"
   },
   "source": [
    "**#Univariate and Bivariate**"
   ]
  },
  {
   "cell_type": "code",
   "execution_count": 50,
   "metadata": {},
   "outputs": [
    {
     "name": "stdout",
     "output_type": "stream",
     "text": [
      "AxesSubplot(0.125,0.125;0.775x0.755)\n"
     ]
    },
    {
     "data": {
      "image/png": "[encoded data removed]",
      "text/plain": [
       "<Figure size 720x576 with 1 Axes>"
      ]
     },
     "metadata": {},
     "output_type": "display_data"
    }
   ],
   "source": [
    "#Univariate\n",
    "print(sns.distplot(pl_df['CCAvg']));"
   ]
  },
  {
   "cell_type": "code",
   "execution_count": 49,
   "metadata": {},
   "outputs": [
    {
     "name": "stdout",
     "output_type": "stream",
     "text": [
      "AxesSubplot(0.125,0.125;0.775x0.755)\n"
     ]
    },
    {
     "data": {
      "image/png": "[encoded data removed]",
      "text/plain": [
       "<Figure size 720x576 with 1 Axes>"
      ]
     },
     "metadata": {},
     "output_type": "display_data"
    }
   ],
   "source": [
    "#Univariate\n",
    "print(sns.distplot(pl_df['Income']))"
   ]
  },
  {
   "cell_type": "code",
   "execution_count": 52,
   "metadata": {},
   "outputs": [
    {
     "name": "stdout",
     "output_type": "stream",
     "text": [
      "AxesSubplot(0.125,0.125;0.775x0.755)\n"
     ]
    },
    {
     "data": {
      "image/png": "[encoded data removed]",
      "text/plain": [
       "<Figure size 720x576 with 1 Axes>"
      ]
     },
     "metadata": {},
     "output_type": "display_data"
    }
   ],
   "source": [
    "#Univariate\n",
    "print(sns.distplot(pl_df['Age']))"
   ]
  },
  {
   "cell_type": "code",
   "execution_count": 63,
   "metadata": {},
   "outputs": [
    {
     "data": {
      "image/png": "[encoded data removed]",
      "text/plain": [
       "<Figure size 432x432 with 3 Axes>"
      ]
     },
     "metadata": {},
     "output_type": "display_data"
    }
   ],
   "source": [
    "#Bivariate\n",
    "sns.jointplot(pl_df['Age'], pl_df['Mortgage']);"
   ]
  },
  {
   "cell_type": "markdown",
   "metadata": {
    "colab_type": "text",
    "id": "p9OujWl2P_0I"
   },
   "source": [
    "**Get data model ready**"
   ]
  },
  {
   "cell_type": "code",
   "execution_count": 203,
   "metadata": {},
   "outputs": [
    {
     "name": "stdout",
     "output_type": "stream",
     "text": [
      "Personal Loan  Securities Account\n",
      "0              0                     4058\n",
      "               1                      462\n",
      "1              0                      420\n",
      "               1                       60\n",
      "Name: Securities Account, dtype: int64\n",
      "CD Account  Personal Loan\n",
      "0           0                4358\n",
      "            1                 340\n",
      "1           0                 162\n",
      "            1                 140\n",
      "Name: Personal Loan, dtype: int64\n",
      "Online  Personal Loan\n",
      "0       0                1827\n",
      "        1                 189\n",
      "1       0                2693\n",
      "        1                 291\n",
      "Name: Personal Loan, dtype: int64\n",
      "CreditCard  Personal Loan\n",
      "0           0                3193\n",
      "            1                 337\n",
      "1           0                1327\n",
      "            1                 143\n",
      "Name: Personal Loan, dtype: int64\n",
      "CD Account  CreditCard  Personal Loan\n",
      "0           0           0                3178\n",
      "                        1                 290\n",
      "            1           0                1180\n",
      "                        1                  50\n",
      "1           0           1                  47\n",
      "                        0                  15\n",
      "            1           0                 147\n",
      "                        1                  93\n",
      "Name: Personal Loan, dtype: int64\n",
      "Personal Loan  CD Account  CreditCard  Securities Account  Online\n",
      "0              0           0           0                   1         1689\n",
      "                                                           0         1168\n",
      "                                       1                   1          189\n",
      "                                                           0          132\n",
      "                           1           0                   1          658\n",
      "                                                           0          477\n",
      "                                       1                   0           45\n",
      "               1           0           1                   1           15\n",
      "                           1           0                   1           66\n",
      "                                       1                   1           76\n",
      "                                                           0            5\n",
      "1              0           0           0                   1          165\n",
      "                                                           0          116\n",
      "                                       1                   0            9\n",
      "                           1           0                   0           50\n",
      "               1           0           0                   1           13\n",
      "                                       1                   1           31\n",
      "                                                           0            3\n",
      "                           1           0                   1           72\n",
      "                                                           0            4\n",
      "                                       1                   1           10\n",
      "                                                           0            7\n",
      "Name: Online, dtype: int64\n"
     ]
    }
   ],
   "source": [
    "#Drawing relationship between various accounts and personal loan\n",
    "print(pl_df.groupby(['Personal Loan'])['Securities Account'].value_counts())\n",
    "print(pl_df.groupby(['CD Account'])['Personal Loan'].value_counts())\n",
    "print(pl_df.groupby(['Online'])['Personal Loan'].value_counts())\n",
    "print(pl_df.groupby(['CreditCard'])['Personal Loan'].value_counts())\n",
    "print(pl_df.groupby(['CD Account','CreditCard'])['Personal Loan'].value_counts())\n",
    "print(pl_df.groupby(['Personal Loan','CD Account','CreditCard','Securities Account'])['Online'].value_counts())"
   ]
  },
  {
   "cell_type": "code",
   "execution_count": 826,
   "metadata": {},
   "outputs": [
    {
     "name": "stdout",
     "output_type": "stream",
     "text": [
      "<class 'pandas.core.frame.DataFrame'>\n",
      "RangeIndex: 5000 entries, 0 to 4999\n",
      "Data columns (total 14 columns):\n",
      " #   Column              Non-Null Count  Dtype   \n",
      "---  ------              --------------  -----   \n",
      " 0   ID                  5000 non-null   int64   \n",
      " 1   Age                 5000 non-null   int64   \n",
      " 2   Experience          5000 non-null   category\n",
      " 3   Income              5000 non-null   int64   \n",
      " 4   ZIP Code            5000 non-null   int64   \n",
      " 5   Family              5000 non-null   category\n",
      " 6   CCAvg               5000 non-null   float64 \n",
      " 7   Education           5000 non-null   category\n",
      " 8   Mortgage            5000 non-null   int64   \n",
      " 9   Personal Loan       5000 non-null   category\n",
      " 10  Securities Account  5000 non-null   category\n",
      " 11  CD Account          5000 non-null   category\n",
      " 12  Online              5000 non-null   category\n",
      " 13  CreditCard          5000 non-null   category\n",
      "dtypes: category(8), float64(1), int64(5)\n",
      "memory usage: 275.9 KB\n"
     ]
    }
   ],
   "source": [
    "#incorrect imputation - Experience has negative Number, change negative no to Zero\n",
    "pl_df = df.clip(lower=0)\n",
    "pl_df.describe()\n",
    "pl_df['Experience'] = pl_df['Experience'].astype('category')\n",
    "pl_df['Family'] = pl_df['Family'].astype('category')\n",
    "pl_df['Education'] = pl_df['Education'].astype('category')\n",
    "pl_df['Personal Loan'] = pl_df['Personal Loan'].astype('category')\n",
    "pl_df['Securities Account'] = pl_df['Securities Account'].astype('category')\n",
    "pl_df['CD Account'] = pl_df['CD Account'].astype('category')\n",
    "pl_df['Online'] = pl_df['Online'].astype('category')\n",
    "pl_df['CreditCard'] = pl_df['CreditCard'].astype('category')\n",
    "pl_df.info()"
   ]
  },
  {
   "cell_type": "markdown",
   "metadata": {
    "colab_type": "text",
    "id": "p9OujWl2P_0I"
   },
   "source": [
    "**Iteration 1 - Remove ID and Zip code**"
   ]
  },
  {
   "cell_type": "code",
   "execution_count": 827,
   "metadata": {},
   "outputs": [
    {
     "name": "stdout",
     "output_type": "stream",
     "text": [
      "<class 'pandas.core.frame.DataFrame'>\n",
      "RangeIndex: 5000 entries, 0 to 4999\n",
      "Data columns (total 14 columns):\n",
      " #   Column              Non-Null Count  Dtype   \n",
      "---  ------              --------------  -----   \n",
      " 0   ID                  5000 non-null   int64   \n",
      " 1   Age                 5000 non-null   int64   \n",
      " 2   Experience          5000 non-null   category\n",
      " 3   Income              5000 non-null   int64   \n",
      " 4   ZIP Code            5000 non-null   int64   \n",
      " 5   Family              5000 non-null   category\n",
      " 6   CCAvg               5000 non-null   float64 \n",
      " 7   Education           5000 non-null   category\n",
      " 8   Mortgage            5000 non-null   int64   \n",
      " 9   Personal Loan       5000 non-null   category\n",
      " 10  Securities Account  5000 non-null   category\n",
      " 11  CD Account          5000 non-null   category\n",
      " 12  Online              5000 non-null   category\n",
      " 13  CreditCard          5000 non-null   category\n",
      "dtypes: category(8), float64(1), int64(5)\n",
      "memory usage: 275.9 KB\n"
     ]
    }
   ],
   "source": [
    "#incorrect imputation - Experience has negative Number, change negative no to Zero\n",
    "pl_df = df.clip(lower=0)\n",
    "pl_df.describe()\n",
    "pl_df['Experience'] = pl_df['Experience'].astype('category')\n",
    "pl_df['Family'] = pl_df['Family'].astype('category')\n",
    "pl_df['Education'] = pl_df['Education'].astype('category')\n",
    "pl_df['Personal Loan'] = pl_df['Personal Loan'].astype('category')\n",
    "pl_df['Securities Account'] = pl_df['Securities Account'].astype('category')\n",
    "pl_df['CD Account'] = pl_df['CD Account'].astype('category')\n",
    "pl_df['Online'] = pl_df['Online'].astype('category')\n",
    "pl_df['CreditCard'] = pl_df['CreditCard'].astype('category')\n",
    "pl_df.info()"
   ]
  },
  {
   "cell_type": "code",
   "execution_count": 828,
   "metadata": {},
   "outputs": [
    {
     "data": {
      "text/html": [
       "<div>\n",
       "<style scoped>\n",
       "    .dataframe tbody tr th:only-of-type {\n",
       "        vertical-align: middle;\n",
       "    }\n",
       "\n",
       "    .dataframe tbody tr th {\n",
       "        vertical-align: top;\n",
       "    }\n",
       "\n",
       "    .dataframe thead th {\n",
       "        text-align: right;\n",
       "    }\n",
       "</style>\n",
       "<table border=\"1\" class=\"dataframe\">\n",
       "  <thead>\n",
       "    <tr style=\"text-align: right;\">\n",
       "      <th></th>\n",
       "      <th>Age</th>\n",
       "      <th>Experience</th>\n",
       "      <th>Income</th>\n",
       "      <th>Family</th>\n",
       "      <th>CCAvg</th>\n",
       "      <th>Education</th>\n",
       "      <th>Mortgage</th>\n",
       "      <th>Personal Loan</th>\n",
       "      <th>Securities Account</th>\n",
       "      <th>CD Account</th>\n",
       "      <th>Online</th>\n",
       "      <th>CreditCard</th>\n",
       "    </tr>\n",
       "  </thead>\n",
       "  <tbody>\n",
       "    <tr>\n",
       "      <th>0</th>\n",
       "      <td>25</td>\n",
       "      <td>1</td>\n",
       "      <td>49000</td>\n",
       "      <td>4</td>\n",
       "      <td>1600.00</td>\n",
       "      <td>1</td>\n",
       "      <td>0</td>\n",
       "      <td>0</td>\n",
       "      <td>1</td>\n",
       "      <td>0</td>\n",
       "      <td>0</td>\n",
       "      <td>0</td>\n",
       "    </tr>\n",
       "    <tr>\n",
       "      <th>1</th>\n",
       "      <td>45</td>\n",
       "      <td>19</td>\n",
       "      <td>34000</td>\n",
       "      <td>3</td>\n",
       "      <td>1500.00</td>\n",
       "      <td>1</td>\n",
       "      <td>0</td>\n",
       "      <td>0</td>\n",
       "      <td>1</td>\n",
       "      <td>0</td>\n",
       "      <td>0</td>\n",
       "      <td>0</td>\n",
       "    </tr>\n",
       "    <tr>\n",
       "      <th>2</th>\n",
       "      <td>39</td>\n",
       "      <td>15</td>\n",
       "      <td>11000</td>\n",
       "      <td>1</td>\n",
       "      <td>1000.00</td>\n",
       "      <td>1</td>\n",
       "      <td>0</td>\n",
       "      <td>0</td>\n",
       "      <td>0</td>\n",
       "      <td>0</td>\n",
       "      <td>0</td>\n",
       "      <td>0</td>\n",
       "    </tr>\n",
       "    <tr>\n",
       "      <th>3</th>\n",
       "      <td>35</td>\n",
       "      <td>9</td>\n",
       "      <td>100000</td>\n",
       "      <td>1</td>\n",
       "      <td>2700.00</td>\n",
       "      <td>2</td>\n",
       "      <td>0</td>\n",
       "      <td>0</td>\n",
       "      <td>0</td>\n",
       "      <td>0</td>\n",
       "      <td>0</td>\n",
       "      <td>0</td>\n",
       "    </tr>\n",
       "    <tr>\n",
       "      <th>4</th>\n",
       "      <td>35</td>\n",
       "      <td>8</td>\n",
       "      <td>45000</td>\n",
       "      <td>4</td>\n",
       "      <td>1000.00</td>\n",
       "      <td>2</td>\n",
       "      <td>0</td>\n",
       "      <td>0</td>\n",
       "      <td>0</td>\n",
       "      <td>0</td>\n",
       "      <td>0</td>\n",
       "      <td>1</td>\n",
       "    </tr>\n",
       "  </tbody>\n",
       "</table>\n",
       "</div>"
      ],
      "text/plain": [
       "   Age Experience  Income Family   CCAvg Education  Mortgage Personal Loan  \\\n",
       "0   25          1   49000      4 1600.00         1         0             0   \n",
       "1   45         19   34000      3 1500.00         1         0             0   \n",
       "2   39         15   11000      1 1000.00         1         0             0   \n",
       "3   35          9  100000      1 2700.00         2         0             0   \n",
       "4   35          8   45000      4 1000.00         2         0             0   \n",
       "\n",
       "  Securities Account CD Account Online CreditCard  \n",
       "0                  1          0      0          0  \n",
       "1                  1          0      0          0  \n",
       "2                  0          0      0          0  \n",
       "3                  0          0      0          0  \n",
       "4                  0          0      0          1  "
      ]
     },
     "execution_count": 828,
     "metadata": {},
     "output_type": "execute_result"
    }
   ],
   "source": [
    "pl_df = pl_df.drop('ID', axis =1 ) # dropping this column as it will be 1-1 mapping anyways\n",
    "pl_df = pl_df.drop('ZIP Code',axis = 1) # dropping zipcode since the data is largely distributed\n",
    "pl_df.head()"
   ]
  },
  {
   "cell_type": "markdown",
   "metadata": {},
   "source": [
    "Possibly complete quasi-separation: A fraction 0.15 of observations can be\n",
    "perfectly predicted. This might indicate that there is complete\n",
    "quasi-separation. In this case some parameters will not be identified\n",
    "\n",
    "We are rejecting this, since the Pseudo R-squ.:                  0.6639, lot of uncertainity"
   ]
  },
  {
   "cell_type": "markdown",
   "metadata": {
    "colab_type": "text",
    "id": "p9OujWl2P_0I"
   },
   "source": [
    "**Get data model ready - Iteration 2 - Remove Experience and Age,Education,CD Account,CreditCard,Online**"
   ]
  },
  {
   "cell_type": "code",
   "execution_count": 859,
   "metadata": {},
   "outputs": [
    {
     "name": "stdout",
     "output_type": "stream",
     "text": [
      "<class 'pandas.core.frame.DataFrame'>\n",
      "RangeIndex: 5000 entries, 0 to 4999\n",
      "Data columns (total 14 columns):\n",
      " #   Column              Non-Null Count  Dtype   \n",
      "---  ------              --------------  -----   \n",
      " 0   ID                  5000 non-null   int64   \n",
      " 1   Age                 5000 non-null   int64   \n",
      " 2   Experience          5000 non-null   category\n",
      " 3   Income              5000 non-null   int64   \n",
      " 4   ZIP Code            5000 non-null   int64   \n",
      " 5   Family              5000 non-null   category\n",
      " 6   CCAvg               5000 non-null   float64 \n",
      " 7   Education           5000 non-null   category\n",
      " 8   Mortgage            5000 non-null   int64   \n",
      " 9   Personal Loan       5000 non-null   category\n",
      " 10  Securities Account  5000 non-null   category\n",
      " 11  CD Account          5000 non-null   category\n",
      " 12  Online              5000 non-null   category\n",
      " 13  CreditCard          5000 non-null   category\n",
      "dtypes: category(8), float64(1), int64(5)\n",
      "memory usage: 275.9 KB\n"
     ]
    }
   ],
   "source": [
    "#incorrect imputation - Experience has negative Number, change negative no to Zero\n",
    "pl_df = df.clip(lower=0)\n",
    "pl_df.describe()\n",
    "pl_df['Experience'] = pl_df['Experience'].astype('category')\n",
    "pl_df['Family'] = pl_df['Family'].astype('category')\n",
    "pl_df['Education'] = pl_df['Education'].astype('category')\n",
    "pl_df['Personal Loan'] = pl_df['Personal Loan'].astype('category')\n",
    "pl_df['Securities Account'] = pl_df['Securities Account'].astype('category')\n",
    "pl_df['CD Account'] = pl_df['CD Account'].astype('category')\n",
    "pl_df['Online'] = pl_df['Online'].astype('category')\n",
    "pl_df['CreditCard'] = pl_df['CreditCard'].astype('category')\n",
    "pl_df.info()"
   ]
  },
  {
   "cell_type": "code",
   "execution_count": 860,
   "metadata": {},
   "outputs": [],
   "source": [
    "pl_df = pl_df.drop('ID', axis =1 ) # dropping this column as it will be 1-1 mapping anyways\n",
    "pl_df = pl_df.drop('ZIP Code',axis = 1) # dropping zipcode since the data is largely distributed\n",
    "pl_df = pl_df.drop('Experience',axis = 1) # dropping Experience since data is largely distributed\n",
    "pl_df = pl_df.drop('Age',axis = 1) # dropping Age since data is largely distributed\n",
    "pl_df = pl_df.drop('Education',axis = 1) # dropping Education\n",
    "pl_df = pl_df.drop('CD Account',axis = 1) # dropping CD Account\n",
    "pl_df = pl_df.drop('Securities Account',axis = 1) # dropping Securities Account \n",
    "pl_df = pl_df.drop('Online',axis = 1) # dropping Online"
   ]
  },
  {
   "cell_type": "markdown",
   "metadata": {},
   "source": [
    "We are rejecting this, since the Pseudo R-squ.: 0.4601 and ROC curve area is very smaller"
   ]
  },
  {
   "cell_type": "markdown",
   "metadata": {
    "colab_type": "text",
    "id": "p9OujWl2P_0I"
   },
   "source": [
    "**Get data model ready - Iteration 3 - Remove Credit Card,Mortgage, Family**"
   ]
  },
  {
   "cell_type": "code",
   "execution_count": 870,
   "metadata": {},
   "outputs": [
    {
     "name": "stdout",
     "output_type": "stream",
     "text": [
      "<class 'pandas.core.frame.DataFrame'>\n",
      "RangeIndex: 5000 entries, 0 to 4999\n",
      "Data columns (total 14 columns):\n",
      " #   Column              Non-Null Count  Dtype   \n",
      "---  ------              --------------  -----   \n",
      " 0   ID                  5000 non-null   int64   \n",
      " 1   Age                 5000 non-null   int64   \n",
      " 2   Experience          5000 non-null   category\n",
      " 3   Income              5000 non-null   int64   \n",
      " 4   ZIP Code            5000 non-null   int64   \n",
      " 5   Family              5000 non-null   category\n",
      " 6   CCAvg               5000 non-null   float64 \n",
      " 7   Education           5000 non-null   category\n",
      " 8   Mortgage            5000 non-null   int64   \n",
      " 9   Personal Loan       5000 non-null   category\n",
      " 10  Securities Account  5000 non-null   category\n",
      " 11  CD Account          5000 non-null   category\n",
      " 12  Online              5000 non-null   category\n",
      " 13  CreditCard          5000 non-null   category\n",
      "dtypes: category(8), float64(1), int64(5)\n",
      "memory usage: 275.9 KB\n"
     ]
    }
   ],
   "source": [
    "#incorrect imputation - Experience has negative Number, change negative no to Zero\n",
    "pl_df = df.clip(lower=0)\n",
    "pl_df.describe()\n",
    "pl_df['Experience'] = pl_df['Experience'].astype('category')\n",
    "pl_df['Family'] = pl_df['Family'].astype('category')\n",
    "pl_df['Education'] = pl_df['Education'].astype('category')\n",
    "pl_df['Personal Loan'] = pl_df['Personal Loan'].astype('category')\n",
    "pl_df['Securities Account'] = pl_df['Securities Account'].astype('category')\n",
    "pl_df['CD Account'] = pl_df['CD Account'].astype('category')\n",
    "pl_df['Online'] = pl_df['Online'].astype('category')\n",
    "pl_df['CreditCard'] = pl_df['CreditCard'].astype('category')\n",
    "pl_df.info()"
   ]
  },
  {
   "cell_type": "code",
   "execution_count": 871,
   "metadata": {},
   "outputs": [],
   "source": [
    "pl_df = pl_df.drop('ID', axis =1 ) # dropping this column as it will be 1-1 mapping anyways\n",
    "pl_df = pl_df.drop('ZIP Code',axis = 1) # dropping zipcode since the data is largely distributed\n",
    "pl_df = pl_df.drop('Experience',axis = 1) # dropping Experience since data is largely distributed\n",
    "pl_df = pl_df.drop('Age',axis = 1) # dropping Age since data is largely distributed\n",
    "pl_df = pl_df.drop('Education',axis = 1) # dropping Education\n",
    "pl_df = pl_df.drop('CD Account',axis = 1) # dropping CD Account\n",
    "pl_df = pl_df.drop('Securities Account',axis = 1) # dropping Securities Account \n",
    "pl_df = pl_df.drop('Online',axis = 1) # dropping Online\n",
    "#Iteration 3 \n",
    "pl_df = pl_df.drop('CreditCard',axis = 1) # dropping CreditCard \n",
    "pl_df = pl_df.drop('Mortgage',axis = 1) # dropping Mortgage \n",
    "pl_df = pl_df.drop('Family',axis = 1) # dropping Age\n",
    "#pl_df = pl_df.drop('Income',axis = 1) # dropping Age"
   ]
  },
  {
   "cell_type": "code",
   "execution_count": 872,
   "metadata": {},
   "outputs": [
    {
     "name": "stdout",
     "output_type": "stream",
     "text": [
      "0   0.90\n",
      "1   0.10\n",
      "Name: Personal Loan, dtype: float64\n"
     ]
    }
   ],
   "source": [
    "#Calculate baseline proportion - ratio of Yes to No to identify data imbalance\n",
    "prop_Y = pl_df['Personal Loan'].value_counts(normalize=True)\n",
    "print(prop_Y)\n",
    "#There is huge imbalance in the data - The Traning data set is not Good"
   ]
  },
  {
   "cell_type": "markdown",
   "metadata": {
    "colab_type": "text",
    "id": "p9OujWl2P_0I"
   },
   "source": [
    "**There is a huge imbalance in the data**"
   ]
  },
  {
   "cell_type": "markdown",
   "metadata": {
    "colab_type": "text",
    "id": "p9OujWl2P_0I"
   },
   "source": [
    "### 3. Split the data into training and test set in the ratio of 70:30 respectively"
   ]
  },
  {
   "cell_type": "code",
   "execution_count": 873,
   "metadata": {
    "colab": {},
    "colab_type": "code",
    "id": "UEfJR6UuP_1D",
    "outputId": "6d6bc790-714d-400f-a540-d654b010a95e",
    "scrolled": true
   },
   "outputs": [],
   "source": [
    "## Define X and Y variables\n",
    "X=pl_df.drop('Personal Loan',axis=1)\n",
    "Y=pl_df['Personal Loan']\n",
    "\n",
    "#Convert categorical vriables to dummy variables\n",
    "X = pd.get_dummies(X, drop_first=True)\n",
    "\n",
    "#split the data into train and test\n",
    "from sklearn.model_selection import train_test_split\n",
    "x_train,x_test,y_train,y_test=train_test_split(X,Y,train_size=0.70,test_size=0.30,random_state=10)\n"
   ]
  },
  {
   "cell_type": "code",
   "execution_count": 874,
   "metadata": {},
   "outputs": [
    {
     "data": {
      "text/html": [
       "<div>\n",
       "<style scoped>\n",
       "    .dataframe tbody tr th:only-of-type {\n",
       "        vertical-align: middle;\n",
       "    }\n",
       "\n",
       "    .dataframe tbody tr th {\n",
       "        vertical-align: top;\n",
       "    }\n",
       "\n",
       "    .dataframe thead th {\n",
       "        text-align: right;\n",
       "    }\n",
       "</style>\n",
       "<table border=\"1\" class=\"dataframe\">\n",
       "  <thead>\n",
       "    <tr style=\"text-align: right;\">\n",
       "      <th></th>\n",
       "      <th>Income</th>\n",
       "      <th>CCAvg</th>\n",
       "    </tr>\n",
       "  </thead>\n",
       "  <tbody>\n",
       "    <tr>\n",
       "      <th>245</th>\n",
       "      <td>25000</td>\n",
       "      <td>1000.00</td>\n",
       "    </tr>\n",
       "    <tr>\n",
       "      <th>4493</th>\n",
       "      <td>74000</td>\n",
       "      <td>2600.00</td>\n",
       "    </tr>\n",
       "    <tr>\n",
       "      <th>4583</th>\n",
       "      <td>83000</td>\n",
       "      <td>3100.00</td>\n",
       "    </tr>\n",
       "    <tr>\n",
       "      <th>2242</th>\n",
       "      <td>45000</td>\n",
       "      <td>1800.00</td>\n",
       "    </tr>\n",
       "    <tr>\n",
       "      <th>3407</th>\n",
       "      <td>19000</td>\n",
       "      <td>700.00</td>\n",
       "    </tr>\n",
       "  </tbody>\n",
       "</table>\n",
       "</div>"
      ],
      "text/plain": [
       "      Income   CCAvg\n",
       "245    25000 1000.00\n",
       "4493   74000 2600.00\n",
       "4583   83000 3100.00\n",
       "2242   45000 1800.00\n",
       "3407   19000  700.00"
      ]
     },
     "execution_count": 874,
     "metadata": {},
     "output_type": "execute_result"
    }
   ],
   "source": [
    "x_test.head()"
   ]
  },
  {
   "cell_type": "markdown",
   "metadata": {
    "colab_type": "text",
    "id": "p9OujWl2P_0I"
   },
   "source": [
    "### 4. Use Logistic Regression model to predict the number of a customers buying personal loans. Print all the metrics related for evaluating the model performance"
   ]
  },
  {
   "cell_type": "code",
   "execution_count": 875,
   "metadata": {},
   "outputs": [
    {
     "name": "stdout",
     "output_type": "stream",
     "text": [
      "Optimization terminated successfully.\n",
      "         Current function value: 0.198789\n",
      "         Iterations 8\n",
      "                           Logit Regression Results                           \n",
      "==============================================================================\n",
      "Dep. Variable:          Personal Loan   No. Observations:                 3500\n",
      "Model:                          Logit   Df Residuals:                     3497\n",
      "Method:                           MLE   Df Model:                            2\n",
      "Date:                Sat, 11 Jul 2020   Pseudo R-squ.:                  0.3764\n",
      "Time:                        01:23:02   Log-Likelihood:                -695.76\n",
      "converged:                       True   LL-Null:                       -1115.7\n",
      "Covariance Type:            nonrobust   LLR p-value:                4.371e-183\n",
      "==============================================================================\n",
      "                 coef    std err          z      P>|z|      [0.025      0.975]\n",
      "------------------------------------------------------------------------------\n",
      "const         -6.2140      0.225    -27.591      0.000      -6.655      -5.773\n",
      "Income      3.686e-05   1.89e-06     19.483      0.000    3.32e-05    4.06e-05\n",
      "CCAvg       5.546e-05   3.42e-05      1.620      0.105   -1.16e-05       0.000\n",
      "==============================================================================\n"
     ]
    }
   ],
   "source": [
    "#Build the logistic regression model\n",
    "import statsmodels.api as sm\n",
    "\n",
    "logit = sm.Logit(y_train, sm.add_constant(x_train))\n",
    "lg = logit.fit()\n",
    "\n",
    "#Summary of logistic regression\n",
    "from scipy import stats\n",
    "stats.chisqprob = lambda chisq, df: stats.chi2.sf(chisq, df)\n",
    "print(lg.summary())"
   ]
  },
  {
   "cell_type": "code",
   "execution_count": 876,
   "metadata": {},
   "outputs": [
    {
     "data": {
      "text/plain": [
       "LogisticRegression(C=1.0, class_weight=None, dual=False, fit_intercept=True,\n",
       "                   intercept_scaling=1, l1_ratio=None, max_iter=100,\n",
       "                   multi_class='auto', n_jobs=None, penalty='l2',\n",
       "                   random_state=42, solver='lbfgs', tol=0.0001, verbose=0,\n",
       "                   warm_start=False)"
      ]
     },
     "execution_count": 876,
     "metadata": {},
     "output_type": "execute_result"
    }
   ],
   "source": [
    "from sklearn.metrics import confusion_matrix, recall_score, precision_score, f1_score, roc_auc_score,accuracy_score,classification_report\n",
    "from sklearn.linear_model import LogisticRegression\n",
    "\n",
    "logreg = LogisticRegression(random_state=42)\n",
    "logreg.fit(x_train, y_train)"
   ]
  },
  {
   "cell_type": "code",
   "execution_count": 877,
   "metadata": {},
   "outputs": [],
   "source": [
    "y_predict = logreg.predict(x_test)"
   ]
  },
  {
   "cell_type": "code",
   "execution_count": 878,
   "metadata": {},
   "outputs": [],
   "source": [
    "## function to get confusion matrix in a proper format\n",
    "def draw_cm( actual, predicted ):\n",
    "    cm = confusion_matrix( actual, predicted)\n",
    "    sns.heatmap(cm, annot=True,  fmt='.2f', xticklabels = [0,1] , yticklabels = [0,1] )\n",
    "    plt.ylabel('Observed')\n",
    "    plt.xlabel('Predicted')\n",
    "    plt.show()"
   ]
  },
  {
   "cell_type": "code",
   "execution_count": 879,
   "metadata": {},
   "outputs": [
    {
     "name": "stdout",
     "output_type": "stream",
     "text": [
      "Training accuracy 0.9105714285714286\n",
      "\n",
      "Testing accuracy 0.9013333333333333\n",
      "\n",
      "Confusion Matrix\n",
      "\n"
     ]
    },
    {
     "data": {
      "image/png": "[encoded data removed]",
      "text/plain": [
       "<Figure size 576x396 with 2 Axes>"
      ]
     },
     "metadata": {},
     "output_type": "display_data"
    },
    {
     "name": "stdout",
     "output_type": "stream",
     "text": [
      "None\n",
      "\n",
      "Recall: 0.35\n",
      "\n",
      "Precision: 0.46226415094339623\n",
      "\n",
      "F1 Score: 0.3983739837398374\n",
      "\n",
      "Roc Auc Score: 0.6540441176470588\n",
      "\n",
      "              precision    recall  f1-score   support\n",
      "\n",
      "           0     0.9347    0.9581    0.9463      1360\n",
      "           1     0.4623    0.3500    0.3984       140\n",
      "\n",
      "    accuracy                         0.9013      1500\n",
      "   macro avg     0.6985    0.6540    0.6723      1500\n",
      "weighted avg     0.8906    0.9013    0.8951      1500\n",
      "\n"
     ]
    }
   ],
   "source": [
    "print(\"Training accuracy\",logreg.score(x_train,y_train))  \n",
    "print()\n",
    "print(\"Testing accuracy\",logreg.score(x_test, y_test))\n",
    "print()\n",
    "print('Confusion Matrix')\n",
    "print()\n",
    "print(draw_cm(y_test,y_predict))\n",
    "print()\n",
    "print(\"Recall:\",recall_score(y_test,y_predict))\n",
    "print()\n",
    "print(\"Precision:\",precision_score(y_test,y_predict))\n",
    "print()\n",
    "print(\"F1 Score:\",f1_score(y_test,y_predict))\n",
    "print()\n",
    "print(\"Roc Auc Score:\",roc_auc_score(y_test,y_predict))\n",
    "print()\n",
    "print(classification_report(y_test,y_predict,digits=4))"
   ]
  },
  {
   "cell_type": "code",
   "execution_count": 880,
   "metadata": {},
   "outputs": [
    {
     "data": {
      "image/png": "[encoded data removed]",
      "text/plain": [
       "<Figure size 576x396 with 1 Axes>"
      ]
     },
     "metadata": {},
     "output_type": "display_data"
    }
   ],
   "source": [
    "#AUC ROC curve\n",
    "from sklearn.metrics import roc_auc_score\n",
    "from sklearn.metrics import roc_curve\n",
    "\n",
    "logit_roc_auc = roc_auc_score(y_test, logreg.predict(x_test))\n",
    "fpr, tpr, thresholds = roc_curve(y_test, logreg.predict_proba(x_test)[:,1])\n",
    "plt.figure()\n",
    "plt.plot(fpr, tpr, label='Logistic Regression (area = %0.2f)' % logit_roc_auc)\n",
    "plt.plot([0, 1], [0, 1],'r--')\n",
    "plt.xlim([0.0, 1.0])\n",
    "plt.ylim([0.0, 1.05])\n",
    "plt.xlabel('False Positive Rate')\n",
    "plt.ylabel('True Positive Rate')\n",
    "plt.title('Receiver operating characteristic')\n",
    "plt.legend(loc=\"lower right\")\n",
    "plt.savefig('Log_ROC')\n",
    "plt.show()"
   ]
  },
  {
   "cell_type": "markdown",
   "metadata": {},
   "source": [
    "### 5. Give your reasoning on how can the model perform better"
   ]
  },
  {
   "cell_type": "code",
   "execution_count": 881,
   "metadata": {},
   "outputs": [
    {
     "data": {
      "text/plain": [
       "{'C': 1.0,\n",
       " 'class_weight': None,\n",
       " 'dual': False,\n",
       " 'fit_intercept': True,\n",
       " 'intercept_scaling': 1,\n",
       " 'l1_ratio': None,\n",
       " 'max_iter': 100,\n",
       " 'multi_class': 'auto',\n",
       " 'n_jobs': None,\n",
       " 'penalty': 'l2',\n",
       " 'random_state': 42,\n",
       " 'solver': 'lbfgs',\n",
       " 'tol': 0.0001,\n",
       " 'verbose': 0,\n",
       " 'warm_start': False}"
      ]
     },
     "execution_count": 881,
     "metadata": {},
     "output_type": "execute_result"
    }
   ],
   "source": [
    "# Checking Parameters of logistic regression\n",
    "logreg.get_params()\n",
    "\n",
    "#If we dont specify the parameters in the model it takes default value"
   ]
  },
  {
   "cell_type": "markdown",
   "metadata": {},
   "source": [
    "**Comparing Various against solvers, which model is for US**"
   ]
  },
  {
   "cell_type": "code",
   "execution_count": 882,
   "metadata": {},
   "outputs": [
    {
     "name": "stdout",
     "output_type": "stream",
     "text": [
      "['newton-cg', 'lbfgs', 'liblinear', 'sag', 'saga']\n",
      "\n",
      "[0.911, 0.911, 0.903, 0.903, 0.903]\n",
      "\n",
      "[0.901, 0.901, 0.907, 0.907, 0.907]\n"
     ]
    }
   ],
   "source": [
    "train_score=[]\n",
    "test_score=[]\n",
    "solver = ['newton-cg','lbfgs','liblinear','sag','saga']\n",
    "for i in solver:\n",
    "    model = LogisticRegression(random_state=42,penalty='l2', C = 0.75,solver=i)  # changing values of solver\n",
    "    model.fit(x_train, y_train) \n",
    "    y_predict = model.predict(x_test)     \n",
    "    train_score.append(round(model.score(x_train, y_train),3))\n",
    "    test_score.append(round(model.score(x_test, y_test),3))\n",
    "    \n",
    "print(solver)\n",
    "print()\n",
    "print(train_score)\n",
    "print()\n",
    "print(test_score)"
   ]
  },
  {
   "cell_type": "markdown",
   "metadata": {},
   "source": [
    "*The Training and Testing score are closer for any solver, so it's better,we can use any model*"
   ]
  },
  {
   "cell_type": "code",
   "execution_count": 883,
   "metadata": {},
   "outputs": [
    {
     "name": "stdout",
     "output_type": "stream",
     "text": [
      "Training accuracy 0.8625714285714285\n",
      "\n",
      "Testing accuracy 0.842\n"
     ]
    }
   ],
   "source": [
    "model = LogisticRegression(random_state=42,penalty='l1',solver='liblinear',class_weight='balanced') # changing class weight to balanced\n",
    "\n",
    "model.fit(x_train, y_train) \n",
    "\n",
    "y_predict = model.predict(x_test)     \n",
    "\n",
    "print(\"Training accuracy\",model.score(x_train,y_train))  \n",
    "print()\n",
    "print(\"Testing accuracy\",model.score(x_test, y_test))"
   ]
  },
  {
   "cell_type": "markdown",
   "metadata": {},
   "source": [
    "*Model is not overfitting*"
   ]
  },
  {
   "cell_type": "code",
   "execution_count": 884,
   "metadata": {},
   "outputs": [
    {
     "name": "stdout",
     "output_type": "stream",
     "text": [
      "[0.01, 0.1, 0.25, 0.5, 0.75, 1]\n",
      "\n",
      "[0.847, 0.861, 0.863, 0.863, 0.863, 0.863]\n",
      "\n",
      "[0.827, 0.841, 0.842, 0.842, 0.842, 0.842]\n"
     ]
    }
   ],
   "source": [
    "train_score=[]                                 \n",
    "test_score=[]\n",
    "C = [0.01,0.1,0.25,0.5,0.75,1]\n",
    "for i in C:\n",
    "    model = LogisticRegression(random_state=42,penalty='l1', solver='liblinear',class_weight='balanced', C=i)  # changing values of C\n",
    "    model.fit(x_train, y_train) \n",
    "    y_predict = model.predict(x_test)     \n",
    "    train_score.append(round(model.score(x_train,y_train),3)) # appending training accuracy in a blank list for every run of the loop\n",
    "    test_score.append(round(model.score(x_test, y_test),3))   # appending testing accuracy in a blank list for every run of the loop\n",
    "    \n",
    "print(C)\n",
    "print()\n",
    "print(train_score)\n",
    "print()\n",
    "print(test_score)"
   ]
  },
  {
   "cell_type": "code",
   "execution_count": 885,
   "metadata": {},
   "outputs": [
    {
     "name": "stdout",
     "output_type": "stream",
     "text": [
      "Training accuracy 0.8617142857142858\n",
      "\n",
      "Testing accuracy 0.842\n",
      "\n",
      "Confusion Matrix\n"
     ]
    },
    {
     "data": {
      "image/png": "[encoded data removed]",
      "text/plain": [
       "<Figure size 576x396 with 2 Axes>"
      ]
     },
     "metadata": {},
     "output_type": "display_data"
    },
    {
     "name": "stdout",
     "output_type": "stream",
     "text": [
      "None\n",
      "\n",
      "Recall: 0.8928571428571429\n",
      "\n",
      "Precision: 0.36023054755043227\n",
      "\n",
      "F1 Score: 0.5133470225872689\n",
      "\n",
      "Roc Auc Score: 0.8648109243697479\n"
     ]
    }
   ],
   "source": [
    "#Therefore final model is\n",
    "model = LogisticRegression(random_state=42,penalty='l1', solver='liblinear', class_weight='balanced',C=0.15) \n",
    "model.fit(x_train, y_train)\n",
    "y_predict = model.predict(x_test)\n",
    "print(\"Training accuracy\",model.score(x_train,y_train))  \n",
    "print()\n",
    "print(\"Testing accuracy\",model.score(x_test, y_test))\n",
    "print()\n",
    "print('Confusion Matrix')\n",
    "print(draw_cm(y_test,y_predict))\n",
    "print()\n",
    "print(\"Recall:\",recall_score(y_test,y_predict))\n",
    "print()\n",
    "print(\"Precision:\",precision_score(y_test,y_predict))\n",
    "print()\n",
    "print(\"F1 Score:\",f1_score(y_test,y_predict))\n",
    "print()\n",
    "print(\"Roc Auc Score:\",roc_auc_score(y_test,y_predict))"
   ]
  },
  {
   "cell_type": "markdown",
   "metadata": {},
   "source": [
    "**After doing changes in the logistic regression parameters, the model has improved, since ROC score was 0.65, now it's 0.86**"
   ]
  },
  {
   "cell_type": "code",
   "execution_count": 886,
   "metadata": {},
   "outputs": [
    {
     "data": {
      "image/png": "[encoded data removed]",
      "text/plain": [
       "<Figure size 576x396 with 2 Axes>"
      ]
     },
     "metadata": {},
     "output_type": "display_data"
    },
    {
     "data": {
      "image/png": "[encoded data removed]",
      "text/plain": [
       "<Figure size 576x396 with 1 Axes>"
      ]
     },
     "metadata": {},
     "output_type": "display_data"
    },
    {
     "data": {
      "text/plain": [
       "<matplotlib.axes._subplots.AxesSubplot at 0x217b4590a08>"
      ]
     },
     "execution_count": 886,
     "metadata": {},
     "output_type": "execute_result"
    }
   ],
   "source": [
    "# Additional\n",
    "\n",
    "from yellowbrick.classifier import ClassificationReport, ROCAUC\n",
    "# Visualize model performance with yellowbrick library\n",
    "viz = ClassificationReport(model)\n",
    "viz.fit(x_train, y_train)\n",
    "viz.score(x_test, y_test)\n",
    "viz.show()\n",
    "\n",
    "roc = ROCAUC(model)\n",
    "roc.fit(x_train, y_train)\n",
    "roc.score(x_test, y_test)\n",
    "roc.show()"
   ]
  },
  {
   "cell_type": "markdown",
   "metadata": {},
   "source": [
    "**The Recall value 0.8928571428571429 and ROC Curve is  0.8648109243697479 which is closer to 1. This model performs well**"
   ]
  },
  {
   "cell_type": "markdown",
   "metadata": {},
   "source": [
    "### 6. Give Business understanding of your model"
   ]
  },
  {
   "cell_type": "markdown",
   "metadata": {},
   "source": [
    "**Confusion matrix means**\n",
    "\n",
    "*True Positive (observed=1,predicted=1):*\n",
    "\n",
    "Predicted that customers will signup for personal loan if reached out\n",
    "\n",
    "*False Positive (observed=0,predicted=1):*\n",
    "\n",
    "Predicted that customers who will not signup for personal loan but will signup for the loan\n",
    "\n",
    "*True Negative (observed=0,predicted=0):*\n",
    "\n",
    "Customers in this category will not signup for the Personal Loan, the marketing department can focus on different group\n",
    "\n",
    "*False Negative (observed=1,predicted=0):*\n",
    "\n",
    "Predicted that customer will signup for personal loan but will not do so if reached out\n",
    "\n",
    "Here the bank wants to give enagage another campign and want to target customers who will signup for the loan. Bank employees can focus on the target customer based on the model and desing campign based on the results. Since bank is not going to lose money in reaching out to more customers, the precison is not that important however the recall is the important metric.\n",
    "\n",
    "My observation of the data, is the data seems to have more imbalance, since the percentage of personal loan signed up is only 10% of the given dataset. The data quality needs to be improved"
   ]
  },
  {
   "cell_type": "code",
   "execution_count": null,
   "metadata": {},
   "outputs": [],
   "source": []
  }
 ],
 "metadata": {
  "colab": {
   "name": "M3W2 Casestudy - LGD.ipynb",
   "provenance": [],
   "version": "0.3.2"
  },
  "kernelspec": {
   "display_name": "Python 3",
   "language": "python",
   "name": "python3"
  },
  "language_info": {
   "codemirror_mode": {
    "name": "ipython",
    "version": 3
   },
   "file_extension": ".py",
   "mimetype": "text/x-python",
   "name": "python",
   "nbconvert_exporter": "python",
   "pygments_lexer": "ipython3",
   "version": "3.7.6"
  }
 },
 "nbformat": 4,
 "nbformat_minor": 1
}
